{
 "cells": [
  {
   "cell_type": "code",
   "execution_count": 1,
   "metadata": {},
   "outputs": [],
   "source": [
    "import typing\n",
    "\n",
    "import numpy as np"
   ]
  },
  {
   "cell_type": "code",
   "execution_count": 2,
   "metadata": {},
   "outputs": [],
   "source": [
    "def perceptron(\n",
    "    inputs: np.ndarray,\n",
    "    weights: np.ndarray,\n",
    "    bias: np.floating,\n",
    "    activation: typing.Callable[[np.floating], np.floating]\n",
    ") -> np.floating:\n",
    "    return activation(\n",
    "        np.dot(inputs, weights) + bias\n",
    "    )"
   ]
  },
  {
   "cell_type": "code",
   "execution_count": 3,
   "metadata": {},
   "outputs": [
    {
     "name": "stdout",
     "output_type": "stream",
     "text": [
      "0.9965282177420653\n"
     ]
    }
   ],
   "source": [
    "weights = np.array([0.5, 1, 0.2, 3])\n",
    "inputs = np.array([1, 0.6, 1.3, 0.4])\n",
    "bias = np.float16(3.1)\n",
    "sigmoid = lambda z: 1 / (1 + np.exp(-z))\n",
    "\n",
    "print(perceptron(inputs, weights, bias, sigmoid))"
   ]
  }
 ],
 "metadata": {
  "kernelspec": {
   "display_name": ".env",
   "language": "python",
   "name": "python3"
  },
  "language_info": {
   "codemirror_mode": {
    "name": "ipython",
    "version": 3
   },
   "file_extension": ".py",
   "mimetype": "text/x-python",
   "name": "python",
   "nbconvert_exporter": "python",
   "pygments_lexer": "ipython3",
   "version": "3.11.1"
  }
 },
 "nbformat": 4,
 "nbformat_minor": 2
}
