{
 "cells": [
  {
   "cell_type": "code",
   "execution_count": 70,
   "metadata": {},
   "outputs": [],
   "source": [
    "import typing\n",
    "import random\n",
    "\n",
    "import numpy as np"
   ]
  },
  {
   "cell_type": "code",
   "execution_count": 71,
   "metadata": {},
   "outputs": [],
   "source": [
    "def sigmoid(x: np.floating):\n",
    "    return 1 / (1 + np.exp(-x))"
   ]
  },
  {
   "cell_type": "code",
   "execution_count": 72,
   "metadata": {},
   "outputs": [],
   "source": [
    "class Perceptron:\n",
    "    def __init__(\n",
    "        self,\n",
    "        id: int,\n",
    "        *,\n",
    "        activation: typing.Callable[[np.floating], np.floating] = sigmoid\n",
    "    ):\n",
    "        self.id = id\n",
    "        self.activation = activation\n",
    "\n",
    "    def compute(\n",
    "        self,\n",
    "        inputs: np.ndarray,\n",
    "        weights: np.ndarray\n",
    "    ):\n",
    "        bias = weights[0]\n",
    "        return self.activation(\n",
    "            np.dot(inputs, weights[1:]) + bias\n",
    "        )"
   ]
  },
  {
   "cell_type": "code",
   "execution_count": 73,
   "metadata": {},
   "outputs": [],
   "source": [
    "class InputPerceptron(Perceptron):\n",
    "    def compute(self, inputs: np.ndarray, *_):\n",
    "        return inputs"
   ]
  },
  {
   "cell_type": "code",
   "execution_count": 74,
   "metadata": {},
   "outputs": [],
   "source": [
    "class DenseLayer:\n",
    "    def __init__(self, n_perceptrons: int):\n",
    "        self.perceptrons = [Perceptron(i) for i in range(n_perceptrons)]\n",
    "        self.size = n_perceptrons\n",
    "\n",
    "    def compute(\n",
    "        self,\n",
    "        inputs: np.ndarray,\n",
    "        weights: list[np.ndarray]\n",
    "    ):\n",
    "        vec = []\n",
    "        for idx, w in enumerate(weights):\n",
    "            perceptron = self.perceptrons[idx]\n",
    "            val = perceptron.compute(inputs, w)\n",
    "            vec.append(val)\n",
    "\n",
    "        return np.array(vec)\n"
   ]
  },
  {
   "cell_type": "code",
   "execution_count": 75,
   "metadata": {},
   "outputs": [],
   "source": [
    "class InputLayer(DenseLayer):\n",
    "    def __init__(self, n_perceptrons: int):\n",
    "        self.perceptrons = [InputPerceptron(i) for i in range(n_perceptrons)]\n",
    "        self.size = n_perceptrons\n",
    "\n",
    "    def compute(self, inputs: np.ndarray, *_):\n",
    "        return inputs"
   ]
  },
  {
   "cell_type": "code",
   "execution_count": 76,
   "metadata": {},
   "outputs": [],
   "source": [
    "class Network:\n",
    "    def __init__(self, layers: list[DenseLayer]):\n",
    "        self.layers = layers\n",
    "        self.weights: list[list[np.ndarray]] = self._initialize_random_weights()\n",
    "\n",
    "    def _initialize_random_weights(self) -> list[list[np.ndarray]]:\n",
    "        weights = []\n",
    "        for idx, layer in enumerate(self.layers):\n",
    "            next_layer = self.layers[idx + 1]\n",
    "\n",
    "            intermediate_weights = []\n",
    "\n",
    "            dim = layer.size + 1 # +1 for bias element\n",
    "            num = next_layer.size\n",
    "\n",
    "            for _ in range(num):\n",
    "                vec = np.array([random.random() for _ in range(dim)])\n",
    "                intermediate_weights.append(vec)\n",
    "\n",
    "            weights.append(intermediate_weights)\n",
    "\n",
    "            if idx + 1 == len(self.layers) - 1:\n",
    "                break\n",
    "        \n",
    "        return weights\n",
    "    \n",
    "    def forward_propagate(self, X: np.ndarray):\n",
    "        prop_vec = X\n",
    "\n",
    "        for idx, layer in enumerate(self.layers):\n",
    "            weights = self.weights[idx - 1]\n",
    "            prop_vec = layer.compute(prop_vec, weights)\n",
    "\n",
    "        return prop_vec\n",
    "\n"
   ]
  },
  {
   "cell_type": "code",
   "execution_count": 87,
   "metadata": {},
   "outputs": [],
   "source": [
    "nn = Network([\n",
    "    InputLayer(2),\n",
    "    DenseLayer(1)\n",
    "])"
   ]
  },
  {
   "cell_type": "code",
   "execution_count": 88,
   "metadata": {},
   "outputs": [
    {
     "data": {
      "text/plain": [
       "[[array([0.7627113 , 0.5958149 , 0.49293627])]]"
      ]
     },
     "execution_count": 88,
     "metadata": {},
     "output_type": "execute_result"
    }
   ],
   "source": [
    "nn.weights"
   ]
  },
  {
   "cell_type": "code",
   "execution_count": 89,
   "metadata": {},
   "outputs": [
    {
     "data": {
      "text/plain": [
       "array([0.91248798])"
      ]
     },
     "execution_count": 89,
     "metadata": {},
     "output_type": "execute_result"
    }
   ],
   "source": [
    "X = np.array([1, 2])\n",
    "nn.forward_propagate(X)"
   ]
  }
 ],
 "metadata": {
  "kernelspec": {
   "display_name": ".env",
   "language": "python",
   "name": "python3"
  },
  "language_info": {
   "codemirror_mode": {
    "name": "ipython",
    "version": 3
   },
   "file_extension": ".py",
   "mimetype": "text/x-python",
   "name": "python",
   "nbconvert_exporter": "python",
   "pygments_lexer": "ipython3",
   "version": "3.11.1"
  }
 },
 "nbformat": 4,
 "nbformat_minor": 2
}
