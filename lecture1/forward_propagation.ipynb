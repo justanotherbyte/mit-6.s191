{
 "cells": [
  {
   "cell_type": "code",
   "execution_count": 46,
   "metadata": {},
   "outputs": [],
   "source": [
    "import typing\n",
    "import random\n",
    "\n",
    "import numpy as np"
   ]
  },
  {
   "cell_type": "code",
   "execution_count": 47,
   "metadata": {},
   "outputs": [],
   "source": [
    "def sigmoid(x: np.floating):\n",
    "    return 1 / (1 + np.exp(-x))"
   ]
  },
  {
   "cell_type": "code",
   "execution_count": 48,
   "metadata": {},
   "outputs": [],
   "source": [
    "class Perceptron:\n",
    "    def __init__(\n",
    "        self,\n",
    "        id: int,\n",
    "        *,\n",
    "        activation: typing.Callable[[np.floating], np.floating] = sigmoid\n",
    "    ):\n",
    "        self.id = id\n",
    "        self.activation = activation"
   ]
  },
  {
   "cell_type": "code",
   "execution_count": 49,
   "metadata": {},
   "outputs": [],
   "source": [
    "class DenseLayer:\n",
    "    def __init__(self, n_perceptrons: int):\n",
    "        self.perceptrons = [Perceptron(i) for i in range(n_perceptrons)]\n",
    "        self.size = n_perceptrons"
   ]
  },
  {
   "cell_type": "code",
   "execution_count": 50,
   "metadata": {},
   "outputs": [],
   "source": [
    "class InputLayer(DenseLayer):\n",
    "    def __init__(self, n_perceptrons: int):\n",
    "        super().__init__(n_perceptrons)"
   ]
  },
  {
   "cell_type": "code",
   "execution_count": 51,
   "metadata": {},
   "outputs": [],
   "source": [
    "class Network:\n",
    "    def __init__(self, layers: list[DenseLayer]):\n",
    "        self.layers = layers\n",
    "        self.weights: list[list[np.ndarray]] = self._initialize_random_weights()\n",
    "\n",
    "    def _initialize_random_weights(self) -> list[list[np.ndarray]]:\n",
    "        weights = []\n",
    "        for idx, layer in enumerate(self.layers):\n",
    "            next_layer = self.layers[idx + 1]\n",
    "\n",
    "            intermediate_weights = []\n",
    "\n",
    "            dim = layer.size + 1 # +1 for bias element\n",
    "            num = next_layer.size\n",
    "\n",
    "            for _ in range(num):\n",
    "                # vec = np.random.uniform(0, 1, (1, dim))\n",
    "                vec = np.array([random.random() for _ in range(dim)])\n",
    "                intermediate_weights.append(vec)\n",
    "\n",
    "            weights.append(intermediate_weights)\n",
    "\n",
    "            if idx + 1 == len(self.layers) - 1:\n",
    "                break\n",
    "        \n",
    "        return weights\n"
   ]
  },
  {
   "cell_type": "code",
   "execution_count": 52,
   "metadata": {},
   "outputs": [],
   "source": [
    "nn = Network([\n",
    "    InputLayer(2),\n",
    "    DenseLayer(4),\n",
    "    DenseLayer(2)\n",
    "])"
   ]
  },
  {
   "cell_type": "code",
   "execution_count": 53,
   "metadata": {},
   "outputs": [
    {
     "data": {
      "text/plain": [
       "[[array([0.86790844, 0.96834797, 0.15993637]),\n",
       "  array([0.35122612, 0.58513149, 0.14872007]),\n",
       "  array([0.35887828, 0.67909424, 0.33210523]),\n",
       "  array([0.95527097, 0.86995393, 0.18074543])],\n",
       " [array([0.13968463, 0.00826856, 0.3395287 , 0.39243069, 0.58516214]),\n",
       "  array([0.53442484, 0.30436439, 0.61744243, 0.13276608, 0.13068895])]]"
      ]
     },
     "execution_count": 53,
     "metadata": {},
     "output_type": "execute_result"
    }
   ],
   "source": [
    "nn.weights"
   ]
  }
 ],
 "metadata": {
  "kernelspec": {
   "display_name": ".env",
   "language": "python",
   "name": "python3"
  },
  "language_info": {
   "codemirror_mode": {
    "name": "ipython",
    "version": 3
   },
   "file_extension": ".py",
   "mimetype": "text/x-python",
   "name": "python",
   "nbconvert_exporter": "python",
   "pygments_lexer": "ipython3",
   "version": "3.11.1"
  }
 },
 "nbformat": 4,
 "nbformat_minor": 2
}
